{
 "cells": [
  {
   "cell_type": "code",
   "execution_count": 1,
   "metadata": {},
   "outputs": [],
   "source": [
    "import boto3\n",
    "import json\n",
    "session = boto3.Session(profile_name='css-lab1')\n",
    "br_client = session.client(\"bedrock\", region_name=\"us-east-1\")\n",
    "br_agent_client = session.client(\"bedrock-agent\", region_name=\"us-east-1\")"
   ]
  },
  {
   "cell_type": "code",
   "execution_count": 10,
   "metadata": {},
   "outputs": [
    {
     "data": {
      "text/plain": [
       "[{'modelArn': 'arn:aws:bedrock:us-east-1::foundation-model/anthropic.claude-3-sonnet-20240229-v1:0',\n",
       "  'modelId': 'anthropic.claude-3-sonnet-20240229-v1:0',\n",
       "  'modelName': 'Claude 3 Sonnet',\n",
       "  'providerName': 'Anthropic',\n",
       "  'inputModalities': ['TEXT', 'IMAGE'],\n",
       "  'outputModalities': ['TEXT'],\n",
       "  'responseStreamingSupported': True,\n",
       "  'customizationsSupported': [],\n",
       "  'inferenceTypesSupported': ['ON_DEMAND'],\n",
       "  'modelLifecycle': {'status': 'ACTIVE'}}]"
      ]
     },
     "execution_count": 10,
     "metadata": {},
     "output_type": "execute_result"
    }
   ],
   "source": [
    "list(filter(lambda e: \n",
    "            # \"embed\" in e[\"modelId\"].lower() and \n",
    "            # \"titan\" in e[\"modelId\"].lower() and \n",
    "            # \"v2\" in e[\"modelId\"].lower()\n",
    "            \"claude-3-sonnet\" in e[\"modelId\"].lower() and \n",
    "            \"ON_DEMAND\" in e[\"inferenceTypesSupported\"]\n",
    "            , br_client.list_foundation_models()[\"modelSummaries\"]\n",
    "            ))"
   ]
  },
  {
   "cell_type": "code",
   "execution_count": 68,
   "metadata": {},
   "outputs": [
    {
     "data": {
      "text/plain": [
       "('WQOP6BE3H0',\n",
       " [{'description': 'Pinecone index for recipes',\n",
       "   'knowledgeBaseId': 'WQOP6BE3H0',\n",
       "   'name': 'TestKnowledgeBase',\n",
       "   'status': 'ACTIVE',\n",
       "   'updatedAt': datetime.datetime(2024, 7, 11, 0, 29, 25, 258237, tzinfo=tzutc())}])"
      ]
     },
     "execution_count": 68,
     "metadata": {},
     "output_type": "execute_result"
    }
   ],
   "source": [
    "# use bedrock client to list storage\n",
    "result = br_agent_client.list_knowledge_bases()[\"knowledgeBaseSummaries\"]\n",
    "kb_id = result[0][\"knowledgeBaseId\"]\n",
    "kb_id, result"
   ]
  },
  {
   "cell_type": "code",
   "execution_count": 69,
   "metadata": {},
   "outputs": [
    {
     "data": {
      "text/plain": [
       "('WBFWRLQGT8',\n",
       " [{'dataSourceId': 'WBFWRLQGT8',\n",
       "   'description': 'Data source for recipes',\n",
       "   'knowledgeBaseId': 'WQOP6BE3H0',\n",
       "   'name': 'TestDataSource',\n",
       "   'status': 'AVAILABLE',\n",
       "   'updatedAt': datetime.datetime(2024, 7, 11, 0, 29, 38, 900310, tzinfo=tzutc())}])"
      ]
     },
     "execution_count": 69,
     "metadata": {},
     "output_type": "execute_result"
    }
   ],
   "source": [
    "result = br_agent_client.list_data_sources(knowledgeBaseId=kb_id)[\"dataSourceSummaries\"]\n",
    "ds_id = result[0][\"dataSourceId\"]\n",
    "ds_id, result"
   ]
  },
  {
   "cell_type": "code",
   "execution_count": 80,
   "metadata": {},
   "outputs": [
    {
     "data": {
      "text/plain": [
       "{'dataSourceId': 'WBFWRLQGT8',\n",
       " 'ingestionJobId': 'HLPSDVO8RT',\n",
       " 'knowledgeBaseId': 'WQOP6BE3H0',\n",
       " 'startedAt': datetime.datetime(2024, 7, 11, 0, 52, 19, 635442, tzinfo=tzutc()),\n",
       " 'statistics': {'numberOfDocumentsDeleted': 0,\n",
       "  'numberOfDocumentsFailed': 0,\n",
       "  'numberOfDocumentsScanned': 0,\n",
       "  'numberOfMetadataDocumentsModified': 0,\n",
       "  'numberOfMetadataDocumentsScanned': 0,\n",
       "  'numberOfModifiedDocumentsIndexed': 0,\n",
       "  'numberOfNewDocumentsIndexed': 0},\n",
       " 'status': 'STARTING',\n",
       " 'updatedAt': datetime.datetime(2024, 7, 11, 0, 52, 19, 635442, tzinfo=tzutc())}"
      ]
     },
     "execution_count": 80,
     "metadata": {},
     "output_type": "execute_result"
    }
   ],
   "source": [
    "job = br_agent_client.start_ingestion_job(dataSourceId=ds_id, knowledgeBaseId=kb_id)\n",
    "job[\"ingestionJob\"]"
   ]
  },
  {
   "cell_type": "code",
   "execution_count": 81,
   "metadata": {},
   "outputs": [
    {
     "name": "stdout",
     "output_type": "stream",
     "text": [
      "IN_PROGRESS\n",
      "IN_PROGRESS\n",
      "IN_PROGRESS\n",
      "IN_PROGRESS\n",
      "IN_PROGRESS\n",
      "IN_PROGRESS\n",
      "IN_PROGRESS\n",
      "IN_PROGRESS\n",
      "IN_PROGRESS\n",
      "IN_PROGRESS\n",
      "IN_PROGRESS\n",
      "IN_PROGRESS\n",
      "IN_PROGRESS\n",
      "IN_PROGRESS\n",
      "IN_PROGRESS\n",
      "IN_PROGRESS\n",
      "IN_PROGRESS\n",
      "IN_PROGRESS\n",
      "COMPLETE\n",
      "COMPLETE\n",
      "COMPLETE\n",
      "COMPLETE\n",
      "COMPLETE\n",
      "COMPLETE\n",
      "COMPLETE\n",
      "COMPLETE\n",
      "COMPLETE\n",
      "COMPLETE\n"
     ]
    },
    {
     "ename": "KeyboardInterrupt",
     "evalue": "",
     "output_type": "error",
     "traceback": [
      "\u001b[0;31m---------------------------------------------------------------------------\u001b[0m",
      "\u001b[0;31mKeyboardInterrupt\u001b[0m                         Traceback (most recent call last)",
      "Cell \u001b[0;32mIn[81], line 8\u001b[0m\n\u001b[1;32m      6\u001b[0m job_status \u001b[38;5;241m=\u001b[39m br_agent_client\u001b[38;5;241m.\u001b[39mget_ingestion_job(ingestionJobId\u001b[38;5;241m=\u001b[39mjob_id, knowledgeBaseId\u001b[38;5;241m=\u001b[39mkb_id, dataSourceId\u001b[38;5;241m=\u001b[39mds_id)\n\u001b[1;32m      7\u001b[0m \u001b[38;5;28mprint\u001b[39m(job_status[\u001b[38;5;124m\"\u001b[39m\u001b[38;5;124mingestionJob\u001b[39m\u001b[38;5;124m\"\u001b[39m][\u001b[38;5;124m\"\u001b[39m\u001b[38;5;124mstatus\u001b[39m\u001b[38;5;124m\"\u001b[39m])\n\u001b[0;32m----> 8\u001b[0m time\u001b[38;5;241m.\u001b[39msleep(\u001b[38;5;241m1\u001b[39m)\n",
      "\u001b[0;31mKeyboardInterrupt\u001b[0m: "
     ]
    }
   ],
   "source": [
    "import time\n",
    "\n",
    "\n",
    "job_id = job[\"ingestionJob\"][\"ingestionJobId\"]\n",
    "while True:\n",
    "    job_status = br_agent_client.get_ingestion_job(ingestionJobId=job_id, knowledgeBaseId=kb_id, dataSourceId=ds_id)\n",
    "    print(job_status[\"ingestionJob\"][\"status\"])\n",
    "    time.sleep(1)"
   ]
  },
  {
   "cell_type": "code",
   "execution_count": 38,
   "metadata": {},
   "outputs": [
    {
     "data": {
      "text/plain": [
       "['Encountered error: Ignored 1 files as their file format was not supported. [Files: s3://bedrockagentsstack-testing-recipebucket7d535f14-1zxwom0f1fj0/.DS_Store]. Call to Amazon S3 Source did not succeed.',\n",
       " 'The server encountered an internal error while processing the request.',\n",
       " 'Encountered error: The vector database encountered an error while processing the request.. Issue occurred while processing file: s3://bedrockagentsstack-testing-recipebucket7d535f14-1zxwom0f1fj0/creamy garden herb chicken.pdf. Call to Pinecone Vector Database did not succeed.',\n",
       " 'Encountered error: Ignored 1 files as their file format was not supported. [Files: s3://bedrockagentsstack-testing-recipebucket7d535f14-1zxwom0f1fj0/.DS_Store]. Call to Amazon S3 Source did not succeed.',\n",
       " 'The server encountered an internal error while processing the request.',\n",
       " 'Encountered error: The vector database encountered an error while processing the request.. Issue occurred while processing file: s3://bedrockagentsstack-testing-recipebucket7d535f14-1zxwom0f1fj0/creamy garden herb chicken.pdf. Call to Pinecone Vector Database did not succeed.',\n",
       " 'Encountered error: Ignored 1 files as their file format was not supported. [Files: s3://bedrockagentsstack-testing-recipebucket7d535f14-1zxwom0f1fj0/.DS_Store]. Call to Amazon S3 Source did not succeed.',\n",
       " 'The server encountered an internal error while processing the request.',\n",
       " 'Encountered error: The vector database encountered an error while processing the request.. Issue occurred while processing file: s3://bedrockagentsstack-testing-recipebucket7d535f14-1zxwom0f1fj0/creamy garden herb chicken.pdf. Call to Pinecone Vector Database did not succeed.',\n",
       " 'Encountered error: Ignored 1 files as their file format was not supported. [Files: s3://bedrockagentsstack-testing-recipebucket7d535f14-1zxwom0f1fj0/.DS_Store]. Call to Amazon S3 Source did not succeed.',\n",
       " 'The server encountered an internal error while processing the request.',\n",
       " 'Encountered error: The vector database encountered an error while processing the request.. Issue occurred while processing file: s3://bedrockagentsstack-testing-recipebucket7d535f14-1zxwom0f1fj0/creamy garden herb chicken.pdf. Call to Pinecone Vector Database did not succeed.',\n",
       " 'Encountered error: Ignored 1 files as their file format was not supported. [Files: s3://bedrockagentsstack-testing-recipebucket7d535f14-1zxwom0f1fj0/.DS_Store]. Call to Amazon S3 Source did not succeed.',\n",
       " 'The server encountered an internal error while processing the request.',\n",
       " 'Encountered error: The vector database encountered an error while processing the request.. Issue occurred while processing file: s3://bedrockagentsstack-testing-recipebucket7d535f14-1zxwom0f1fj0/creamy garden herb chicken.pdf. Call to Pinecone Vector Database did not succeed.',\n",
       " 'Encountered error: Ignored 1 files as their file format was not supported. [Files: s3://bedrockagentsstack-testing-recipebucket7d535f14-1zxwom0f1fj0/.DS_Store]. Call to Amazon S3 Source did not succeed.',\n",
       " 'The server encountered an internal error while processing the request.',\n",
       " 'Encountered error: The vector database encountered an error while processing the request.. Issue occurred while processing file: s3://bedrockagentsstack-testing-recipebucket7d535f14-1zxwom0f1fj0/creamy garden herb chicken.pdf. Call to Pinecone Vector Database did not succeed.',\n",
       " 'Encountered error: Ignored 1 files as their file format was not supported. [Files: s3://bedrockagentsstack-testing-recipebucket7d535f14-1zxwom0f1fj0/.DS_Store]. Call to Amazon S3 Source did not succeed.',\n",
       " 'The server encountered an internal error while processing the request.',\n",
       " 'Encountered error: The vector database encountered an error while processing the request.. Issue occurred while processing file: s3://bedrockagentsstack-testing-recipebucket7d535f14-1zxwom0f1fj0/creamy garden herb chicken.pdf. Call to Pinecone Vector Database did not succeed.',\n",
       " 'Encountered error: Ignored 1 files as their file format was not supported. [Files: s3://bedrockagentsstack-testing-recipebucket7d535f14-1zxwom0f1fj0/.DS_Store]. Call to Amazon S3 Source did not succeed.',\n",
       " 'The server encountered an internal error while processing the request.',\n",
       " 'Encountered error: The vector database encountered an error while processing the request.. Issue occurred while processing file: s3://bedrockagentsstack-testing-recipebucket7d535f14-1zxwom0f1fj0/creamy garden herb chicken.pdf. Call to Pinecone Vector Database did not succeed.',\n",
       " 'Encountered error: Ignored 1 files as their file format was not supported. [Files: s3://bedrockagentsstack-testing-recipebucket7d535f14-1zxwom0f1fj0/.DS_Store]. Call to Amazon S3 Source did not succeed.',\n",
       " 'The server encountered an internal error while processing the request.',\n",
       " 'Encountered error: The vector database encountered an error while processing the request.. Issue occurred while processing file: s3://bedrockagentsstack-testing-recipebucket7d535f14-1zxwom0f1fj0/creamy garden herb chicken.pdf. Call to Pinecone Vector Database did not succeed.',\n",
       " 'Encountered error: Ignored 1 files as their file format was not supported. [Files: s3://bedrockagentsstack-testing-recipebucket7d535f14-1zxwom0f1fj0/.DS_Store]. Call to Amazon S3 Source did not succeed.',\n",
       " 'The server encountered an internal error while processing the request.',\n",
       " 'Encountered error: The vector database encountered an error while processing the request.. Issue occurred while processing file: s3://bedrockagentsstack-testing-recipebucket7d535f14-1zxwom0f1fj0/creamy garden herb chicken.pdf. Call to Pinecone Vector Database did not succeed.',\n",
       " 'Encountered error: Ignored 1 files as their file format was not supported. [Files: s3://bedrockagentsstack-testing-recipebucket7d535f14-1zxwom0f1fj0/.DS_Store]. Call to Amazon S3 Source did not succeed.',\n",
       " 'The server encountered an internal error while processing the request.',\n",
       " 'Encountered error: The vector database encountered an error while processing the request.. Issue occurred while processing file: s3://bedrockagentsstack-testing-recipebucket7d535f14-1zxwom0f1fj0/creamy garden herb chicken.pdf. Call to Pinecone Vector Database did not succeed.',\n",
       " 'Encountered error: Ignored 1 files as their file format was not supported. [Files: s3://bedrockagentsstack-testing-recipebucket7d535f14-1zxwom0f1fj0/.DS_Store]. Call to Amazon S3 Source did not succeed.',\n",
       " 'The server encountered an internal error while processing the request.',\n",
       " 'Encountered error: The vector database encountered an error while processing the request.. Issue occurred while processing file: s3://bedrockagentsstack-testing-recipebucket7d535f14-1zxwom0f1fj0/creamy garden herb chicken.pdf. Call to Pinecone Vector Database did not succeed.',\n",
       " 'Encountered error: Ignored 1 files as their file format was not supported. [Files: s3://bedrockagentsstack-testing-recipebucket7d535f14-1zxwom0f1fj0/.DS_Store]. Call to Amazon S3 Source did not succeed.',\n",
       " 'The server encountered an internal error while processing the request.',\n",
       " 'Encountered error: The vector database encountered an error while processing the request.. Issue occurred while processing file: s3://bedrockagentsstack-testing-recipebucket7d535f14-1zxwom0f1fj0/creamy garden herb chicken.pdf. Call to Pinecone Vector Database did not succeed.',\n",
       " 'Encountered error: Ignored 1 files as their file format was not supported. [Files: s3://bedrockagentsstack-testing-recipebucket7d535f14-1zxwom0f1fj0/.DS_Store]. Call to Amazon S3 Source did not succeed.',\n",
       " 'The server encountered an internal error while processing the request.',\n",
       " 'Encountered error: The vector database encountered an error while processing the request.. Issue occurred while processing file: s3://bedrockagentsstack-testing-recipebucket7d535f14-1zxwom0f1fj0/creamy garden herb chicken.pdf. Call to Pinecone Vector Database did not succeed.',\n",
       " 'Encountered error: Ignored 1 files as their file format was not supported. [Files: s3://bedrockagentsstack-testing-recipebucket7d535f14-1zxwom0f1fj0/.DS_Store]. Call to Amazon S3 Source did not succeed.',\n",
       " 'The server encountered an internal error while processing the request.',\n",
       " 'Encountered error: The vector database encountered an error while processing the request.. Issue occurred while processing file: s3://bedrockagentsstack-testing-recipebucket7d535f14-1zxwom0f1fj0/creamy garden herb chicken.pdf. Call to Pinecone Vector Database did not succeed.',\n",
       " 'Encountered error: Ignored 1 files as their file format was not supported. [Files: s3://bedrockagentsstack-testing-recipebucket7d535f14-1zxwom0f1fj0/.DS_Store]. Call to Amazon S3 Source did not succeed.',\n",
       " 'The server encountered an internal error while processing the request.',\n",
       " 'Encountered error: The vector database encountered an error while processing the request.. Issue occurred while processing file: s3://bedrockagentsstack-testing-recipebucket7d535f14-1zxwom0f1fj0/creamy garden herb chicken.pdf. Call to Pinecone Vector Database did not succeed.',\n",
       " 'Encountered error: Ignored 1 files as their file format was not supported. [Files: s3://bedrockagentsstack-testing-recipebucket7d535f14-1zxwom0f1fj0/.DS_Store]. Call to Amazon S3 Source did not succeed.',\n",
       " 'The server encountered an internal error while processing the request.',\n",
       " 'Encountered error: The vector database encountered an error while processing the request.. Issue occurred while processing file: s3://bedrockagentsstack-testing-recipebucket7d535f14-1zxwom0f1fj0/creamy garden herb chicken.pdf. Call to Pinecone Vector Database did not succeed.',\n",
       " 'Encountered error: Ignored 1 files as their file format was not supported. [Files: s3://bedrockagentsstack-testing-recipebucket7d535f14-1zxwom0f1fj0/.DS_Store]. Call to Amazon S3 Source did not succeed.',\n",
       " 'The server encountered an internal error while processing the request.',\n",
       " 'Encountered error: The vector database encountered an error while processing the request.. Issue occurred while processing file: s3://bedrockagentsstack-testing-recipebucket7d535f14-1zxwom0f1fj0/creamy garden herb chicken.pdf. Call to Pinecone Vector Database did not succeed.',\n",
       " 'Encountered error: Ignored 1 files as their file format was not supported. [Files: s3://bedrockagentsstack-testing-recipebucket7d535f14-1zxwom0f1fj0/.DS_Store]. Call to Amazon S3 Source did not succeed.',\n",
       " 'The server encountered an internal error while processing the request.',\n",
       " 'Encountered error: The vector database encountered an error while processing the request.. Issue occurred while processing file: s3://bedrockagentsstack-testing-recipebucket7d535f14-1zxwom0f1fj0/creamy garden herb chicken.pdf. Call to Pinecone Vector Database did not succeed.',\n",
       " 'Encountered error: Ignored 1 files as their file format was not supported. [Files: s3://bedrockagentsstack-testing-recipebucket7d535f14-1zxwom0f1fj0/.DS_Store]. Call to Amazon S3 Source did not succeed.',\n",
       " 'The server encountered an internal error while processing the request.',\n",
       " 'Encountered error: The vector database encountered an error while processing the request.. Issue occurred while processing file: s3://bedrockagentsstack-testing-recipebucket7d535f14-1zxwom0f1fj0/creamy garden herb chicken.pdf. Call to Pinecone Vector Database did not succeed.',\n",
       " 'Encountered error: Ignored 1 files as their file format was not supported. [Files: s3://bedrockagentsstack-testing-recipebucket7d535f14-1zxwom0f1fj0/.DS_Store]. Call to Amazon S3 Source did not succeed.',\n",
       " 'The server encountered an internal error while processing the request.',\n",
       " 'Encountered error: The vector database encountered an error while processing the request.. Issue occurred while processing file: s3://bedrockagentsstack-testing-recipebucket7d535f14-1zxwom0f1fj0/creamy garden herb chicken.pdf. Call to Pinecone Vector Database did not succeed.',\n",
       " 'Encountered error: Ignored 1 files as their file format was not supported. [Files: s3://bedrockagentsstack-testing-recipebucket7d535f14-1zxwom0f1fj0/.DS_Store]. Call to Amazon S3 Source did not succeed.',\n",
       " 'The server encountered an internal error while processing the request.',\n",
       " 'Encountered error: The vector database encountered an error while processing the request.. Issue occurred while processing file: s3://bedrockagentsstack-testing-recipebucket7d535f14-1zxwom0f1fj0/creamy garden herb chicken.pdf. Call to Pinecone Vector Database did not succeed.',\n",
       " 'Encountered error: Ignored 1 files as their file format was not supported. [Files: s3://bedrockagentsstack-testing-recipebucket7d535f14-1zxwom0f1fj0/.DS_Store]. Call to Amazon S3 Source did not succeed.',\n",
       " 'The server encountered an internal error while processing the request.',\n",
       " 'Encountered error: The vector database encountered an error while processing the request.. Issue occurred while processing file: s3://bedrockagentsstack-testing-recipebucket7d535f14-1zxwom0f1fj0/creamy garden herb chicken.pdf. Call to Pinecone Vector Database did not succeed.',\n",
       " 'Encountered error: Ignored 1 files as their file format was not supported. [Files: s3://bedrockagentsstack-testing-recipebucket7d535f14-1zxwom0f1fj0/.DS_Store]. Call to Amazon S3 Source did not succeed.',\n",
       " 'The server encountered an internal error while processing the request.',\n",
       " 'Encountered error: The vector database encountered an error while processing the request.. Issue occurred while processing file: s3://bedrockagentsstack-testing-recipebucket7d535f14-1zxwom0f1fj0/creamy garden herb chicken.pdf. Call to Pinecone Vector Database did not succeed.',\n",
       " 'Encountered error: Ignored 1 files as their file format was not supported. [Files: s3://bedrockagentsstack-testing-recipebucket7d535f14-1zxwom0f1fj0/.DS_Store]. Call to Amazon S3 Source did not succeed.',\n",
       " 'The server encountered an internal error while processing the request.',\n",
       " 'Encountered error: The vector database encountered an error while processing the request.. Issue occurred while processing file: s3://bedrockagentsstack-testing-recipebucket7d535f14-1zxwom0f1fj0/creamy garden herb chicken.pdf. Call to Pinecone Vector Database did not succeed.',\n",
       " 'Encountered error: Ignored 1 files as their file format was not supported. [Files: s3://bedrockagentsstack-testing-recipebucket7d535f14-1zxwom0f1fj0/.DS_Store]. Call to Amazon S3 Source did not succeed.',\n",
       " 'The server encountered an internal error while processing the request.',\n",
       " 'Encountered error: The vector database encountered an error while processing the request.. Issue occurred while processing file: s3://bedrockagentsstack-testing-recipebucket7d535f14-1zxwom0f1fj0/creamy garden herb chicken.pdf. Call to Pinecone Vector Database did not succeed.',\n",
       " 'Encountered error: Ignored 1 files as their file format was not supported. [Files: s3://bedrockagentsstack-testing-recipebucket7d535f14-1zxwom0f1fj0/.DS_Store]. Call to Amazon S3 Source did not succeed.',\n",
       " 'The server encountered an internal error while processing the request.',\n",
       " 'Encountered error: The vector database encountered an error while processing the request.. Issue occurred while processing file: s3://bedrockagentsstack-testing-recipebucket7d535f14-1zxwom0f1fj0/creamy garden herb chicken.pdf. Call to Pinecone Vector Database did not succeed.',\n",
       " 'Encountered error: Ignored 1 files as their file format was not supported. [Files: s3://bedrockagentsstack-testing-recipebucket7d535f14-1zxwom0f1fj0/.DS_Store]. Call to Amazon S3 Source did not succeed.',\n",
       " 'The server encountered an internal error while processing the request.',\n",
       " 'Encountered error: The vector database encountered an error while processing the request.. Issue occurred while processing file: s3://bedrockagentsstack-testing-recipebucket7d535f14-1zxwom0f1fj0/creamy garden herb chicken.pdf. Call to Pinecone Vector Database did not succeed.',\n",
       " 'Encountered error: Ignored 1 files as their file format was not supported. [Files: s3://bedrockagentsstack-testing-recipebucket7d535f14-1zxwom0f1fj0/.DS_Store]. Call to Amazon S3 Source did not succeed.',\n",
       " 'The server encountered an internal error while processing the request.',\n",
       " 'Encountered error: The vector database encountered an error while processing the request.. Issue occurred while processing file: s3://bedrockagentsstack-testing-recipebucket7d535f14-1zxwom0f1fj0/creamy garden herb chicken.pdf. Call to Pinecone Vector Database did not succeed.',\n",
       " 'Encountered error: Ignored 1 files as their file format was not supported. [Files: s3://bedrockagentsstack-testing-recipebucket7d535f14-1zxwom0f1fj0/.DS_Store]. Call to Amazon S3 Source did not succeed.',\n",
       " 'The server encountered an internal error while processing the request.',\n",
       " 'Encountered error: The vector database encountered an error while processing the request.. Issue occurred while processing file: s3://bedrockagentsstack-testing-recipebucket7d535f14-1zxwom0f1fj0/creamy garden herb chicken.pdf. Call to Pinecone Vector Database did not succeed.',\n",
       " 'Encountered error: Ignored 1 files as their file format was not supported. [Files: s3://bedrockagentsstack-testing-recipebucket7d535f14-1zxwom0f1fj0/.DS_Store]. Call to Amazon S3 Source did not succeed.',\n",
       " 'The server encountered an internal error while processing the request.',\n",
       " 'Encountered error: The vector database encountered an error while processing the request.. Issue occurred while processing file: s3://bedrockagentsstack-testing-recipebucket7d535f14-1zxwom0f1fj0/creamy garden herb chicken.pdf. Call to Pinecone Vector Database did not succeed.',\n",
       " 'Encountered error: Ignored 1 files as their file format was not supported. [Files: s3://bedrockagentsstack-testing-recipebucket7d535f14-1zxwom0f1fj0/.DS_Store]. Call to Amazon S3 Source did not succeed.',\n",
       " 'The server encountered an internal error while processing the request.',\n",
       " 'Encountered error: The vector database encountered an error while processing the request.. Issue occurred while processing file: s3://bedrockagentsstack-testing-recipebucket7d535f14-1zxwom0f1fj0/creamy garden herb chicken.pdf. Call to Pinecone Vector Database did not succeed.',\n",
       " 'Encountered error: Ignored 1 files as their file format was not supported. [Files: s3://bedrockagentsstack-testing-recipebucket7d535f14-1zxwom0f1fj0/.DS_Store]. Call to Amazon S3 Source did not succeed.',\n",
       " 'The server encountered an internal error while processing the request.',\n",
       " 'Encountered error: The vector database encountered an error while processing the request.. Issue occurred while processing file: s3://bedrockagentsstack-testing-recipebucket7d535f14-1zxwom0f1fj0/creamy garden herb chicken.pdf. Call to Pinecone Vector Database did not succeed.',\n",
       " 'Encountered error: Ignored 1 files as their file format was not supported. [Files: s3://bedrockagentsstack-testing-recipebucket7d535f14-1zxwom0f1fj0/.DS_Store]. Call to Amazon S3 Source did not succeed.']"
      ]
     },
     "execution_count": 38,
     "metadata": {},
     "output_type": "execute_result"
    }
   ],
   "source": [
    "\n",
    "json.loads(job_status[\"ingestionJob\"][\"failureReasons\"][0])"
   ]
  },
  {
   "cell_type": "code",
   "execution_count": 7,
   "metadata": {},
   "outputs": [],
   "source": [
    "agent_id = br_agent_client.list_agents()[\"agentSummaries\"][0][\"agentId\"]\n",
    "agent_version = br_agent_client.list_agent_versions(agentId=agent_id)[\"agentVersionSummaries\"][0][\"agentVersion\"]"
   ]
  },
  {
   "cell_type": "code",
   "execution_count": 18,
   "metadata": {},
   "outputs": [
    {
     "data": {
      "text/plain": [
       "'ORWZTGALHQ'"
      ]
     },
     "execution_count": 18,
     "metadata": {},
     "output_type": "execute_result"
    }
   ],
   "source": [
    "resp = br_agent_client.create_agent_action_group(\n",
    "    agentId=agent_id,\n",
    "    agentVersion = agent_version,\n",
    "    actionGroupName=\"test-action-group\",\n",
    "    parentActionGroupSignature=\"AMAZON.CodeInterpreter\",\n",
    "    actionGroupState=\"ENABLED\"\n",
    ")\n",
    "action_group_id = resp[\"agentActionGroup\"][\"actionGroupId\"]\n",
    "action_group_id\n"
   ]
  },
  {
   "cell_type": "code",
   "execution_count": 19,
   "metadata": {},
   "outputs": [
    {
     "data": {
      "text/plain": [
       "{'ResponseMetadata': {'RequestId': 'e62a4b14-0dd2-4e97-81a6-1058b622bff5',\n",
       "  'HTTPStatusCode': 204,\n",
       "  'HTTPHeaders': {'date': 'Sun, 14 Jul 2024 14:35:43 GMT',\n",
       "   'content-type': 'application/json',\n",
       "   'content-length': '0',\n",
       "   'connection': 'keep-alive',\n",
       "   'x-amzn-requestid': 'e62a4b14-0dd2-4e97-81a6-1058b622bff5',\n",
       "   'x-amz-apigw-id': 'a6BJ6FZZoAMEK7g=',\n",
       "   'x-amzn-trace-id': 'Root=1-6693e23f-0e80f4dd493407a537d56b09'},\n",
       "  'RetryAttempts': 0}}"
      ]
     },
     "execution_count": 19,
     "metadata": {},
     "output_type": "execute_result"
    }
   ],
   "source": [
    "br_agent_client.update_agent_action_group(\n",
    "    agentId=agent_id,\n",
    "    agentVersion = agent_version,\n",
    "    actionGroupId=action_group_id,\n",
    "    actionGroupName=\"test-action-group\",\n",
    "    parentActionGroupSignature=\"AMAZON.CodeInterpreter\",\n",
    "    actionGroupState=\"DISABLED\"\n",
    ")\n",
    "resp = br_agent_client.delete_agent_action_group(\n",
    "    agentId=agent_id,\n",
    "    agentVersion = agent_version,\n",
    "    actionGroupId=action_group_id,\n",
    "    # actionGroupName=\"test-action-group\",\n",
    "    # parentActionGroupSignature=\"AMAZON.CodeInterpreter\",\n",
    "    # actionGroupState=\"DISABLED\"\n",
    ")\n",
    "resp"
   ]
  },
  {
   "cell_type": "code",
   "execution_count": 12,
   "metadata": {},
   "outputs": [
    {
     "data": {
      "text/plain": [
       "{'ResponseMetadata': {'RequestId': 'b0c5cc0b-5b29-4874-a237-a2b61b606cb6',\n",
       "  'HTTPStatusCode': 200,\n",
       "  'HTTPHeaders': {'date': 'Sun, 14 Jul 2024 14:33:03 GMT',\n",
       "   'content-type': 'application/json',\n",
       "   'content-length': '356',\n",
       "   'connection': 'keep-alive',\n",
       "   'x-amzn-requestid': 'b0c5cc0b-5b29-4874-a237-a2b61b606cb6',\n",
       "   'x-amz-apigw-id': 'a6Aw6HnxoAMEUdw=',\n",
       "   'x-amzn-trace-id': 'Root=1-6693e19f-3602dadf37a1820f377e3053'},\n",
       "  'RetryAttempts': 0},\n",
       " 'agentActionGroup': {'actionGroupId': 'KG6QNK8PUJ',\n",
       "  'actionGroupName': 'test-action-group',\n",
       "  'actionGroupState': 'ENABLED',\n",
       "  'agentId': 'ZTDMPOKWSS',\n",
       "  'agentVersion': 'DRAFT',\n",
       "  'clientToken': 'a8c0301d-a4d2-4d0b-aff7-933117b88d55',\n",
       "  'createdAt': datetime.datetime(2024, 7, 14, 14, 30, 26, 578767, tzinfo=tzutc()),\n",
       "  'parentActionSignature': 'AMAZON.CodeInterpreter',\n",
       "  'updatedAt': datetime.datetime(2024, 7, 14, 14, 33, 3, 335036, tzinfo=tzutc())}}"
      ]
     },
     "execution_count": 12,
     "metadata": {},
     "output_type": "execute_result"
    }
   ],
   "source": [
    "resp = br_agent_client.update_agent_action_group(\n",
    "    agentId=agent_id,\n",
    "    agentVersion = agent_version,\n",
    "    actionGroupId=action_group_id,\n",
    "    actionGroupName=\"test-action-group\",\n",
    "    parentActionGroupSignature=\"AMAZON.CodeInterpreter\",\n",
    "    actionGroupState=\"ENABLED\"\n",
    ")\n",
    "resp"
   ]
  }
 ],
 "metadata": {
  "kernelspec": {
   "display_name": ".venv",
   "language": "python",
   "name": "python3"
  },
  "language_info": {
   "codemirror_mode": {
    "name": "ipython",
    "version": 3
   },
   "file_extension": ".py",
   "mimetype": "text/x-python",
   "name": "python",
   "nbconvert_exporter": "python",
   "pygments_lexer": "ipython3",
   "version": "3.11.1"
  }
 },
 "nbformat": 4,
 "nbformat_minor": 2
}
